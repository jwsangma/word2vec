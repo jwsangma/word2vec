{
 "cells": [
  {
   "cell_type": "code",
   "execution_count": 2,
   "id": "37ffe938",
   "metadata": {},
   "outputs": [],
   "source": [
    "import gensim\n",
    "import gensim.downloader"
   ]
  },
  {
   "cell_type": "code",
   "execution_count": 4,
   "id": "0c467bd1",
   "metadata": {},
   "outputs": [
    {
     "name": "stdout",
     "output_type": "stream",
     "text": [
      "['fasttext-wiki-news-subwords-300', 'conceptnet-numberbatch-17-06-300', 'word2vec-ruscorpora-300', 'word2vec-google-news-300', 'glove-wiki-gigaword-50', 'glove-wiki-gigaword-100', 'glove-wiki-gigaword-200', 'glove-wiki-gigaword-300', 'glove-twitter-25', 'glove-twitter-50', 'glove-twitter-100', 'glove-twitter-200', '__testing_word2vec-matrix-synopsis']\n"
     ]
    }
   ],
   "source": [
    "# Show all available models in gensim-data\n",
    "print(list(gensim.downloader.info()['models'].keys()))"
   ]
  },
  {
   "cell_type": "code",
   "execution_count": 3,
   "id": "513f6ec4",
   "metadata": {},
   "outputs": [
    {
     "name": "stdout",
     "output_type": "stream",
     "text": [
      "[==================================================] 100.0% 104.8/104.8MB downloaded\n"
     ]
    }
   ],
   "source": [
    "# Download the \"glove-twitter-25\" embeddings\n",
    "glove_vectors = gensim.downloader.load('glove-twitter-25')"
   ]
  },
  {
   "cell_type": "code",
   "execution_count": 5,
   "id": "4875fe1c",
   "metadata": {},
   "outputs": [
    {
     "data": {
      "text/plain": [
       "[('facebook', 0.948005199432373),\n",
       " ('tweet', 0.9403423070907593),\n",
       " ('fb', 0.9342358708381653),\n",
       " ('instagram', 0.9104824066162109),\n",
       " ('chat', 0.8964964747428894),\n",
       " ('hashtag', 0.8885937333106995),\n",
       " ('tweets', 0.8878158330917358),\n",
       " ('tl', 0.8778461217880249),\n",
       " ('link', 0.8778210878372192),\n",
       " ('internet', 0.8753897547721863)]"
      ]
     },
     "execution_count": 5,
     "metadata": {},
     "output_type": "execute_result"
    }
   ],
   "source": [
    "glove_vectors.most_similar('twitter')"
   ]
  },
  {
   "cell_type": "code",
   "execution_count": 10,
   "id": "19692c6e",
   "metadata": {},
   "outputs": [
    {
     "data": {
      "text/plain": [
       "array([ 1.3429  ,  0.32133 ,  0.24542 ,  0.070143,  0.73769 , -0.1736  ,\n",
       "        0.63438 ,  1.571   , -0.88553 ,  0.326   , -0.31173 , -0.067133,\n",
       "       -3.6154  , -0.38971 , -0.31431 ,  1.3033  ,  0.31316 , -0.90273 ,\n",
       "       -1.9166  , -0.5154  ,  0.51635 , -0.54521 , -0.3446  ,  0.45339 ,\n",
       "       -1.0241  ], dtype=float32)"
      ]
     },
     "execution_count": 10,
     "metadata": {},
     "output_type": "execute_result"
    }
   ],
   "source": [
    "glove_vectors['tweet']"
   ]
  },
  {
   "cell_type": "code",
   "execution_count": 14,
   "id": "9fa6c91a",
   "metadata": {},
   "outputs": [
    {
     "data": {
      "text/plain": [
       "0.85129356"
      ]
     },
     "execution_count": 14,
     "metadata": {},
     "output_type": "execute_result"
    }
   ],
   "source": [
    "glove_vectors.similarity('tweet','facebook')"
   ]
  },
  {
   "cell_type": "code",
   "execution_count": 18,
   "id": "4c232699",
   "metadata": {},
   "outputs": [
    {
     "data": {
      "text/plain": [
       "'banana'"
      ]
     },
     "execution_count": 18,
     "metadata": {},
     "output_type": "execute_result"
    }
   ],
   "source": [
    "glove_vectors.doesnt_match(['apple','orange','banana','twitter','facebook'])"
   ]
  },
  {
   "cell_type": "code",
   "execution_count": null,
   "id": "6362d0f1",
   "metadata": {},
   "outputs": [],
   "source": []
  }
 ],
 "metadata": {
  "kernelspec": {
   "display_name": "Python 3 (ipykernel)",
   "language": "python",
   "name": "python3"
  },
  "language_info": {
   "codemirror_mode": {
    "name": "ipython",
    "version": 3
   },
   "file_extension": ".py",
   "mimetype": "text/x-python",
   "name": "python",
   "nbconvert_exporter": "python",
   "pygments_lexer": "ipython3",
   "version": "3.11.1"
  }
 },
 "nbformat": 4,
 "nbformat_minor": 5
}
